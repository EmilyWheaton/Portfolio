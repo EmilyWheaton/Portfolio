{
 "cells": [
  {
   "cell_type": "code",
   "execution_count": 1,
   "metadata": {},
   "outputs": [],
   "source": [
    "import numpy as np\n",
    "import pandas as pd\n",
    "from sklearn.model_selection import train_test_split, cross_val_score\n",
    "from sklearn.compose import ColumnTransformer\n",
    "from sklearn.preprocessing import StandardScaler, OneHotEncoder, LabelEncoder\n",
    "from sklearn.pipeline import Pipeline\n",
    "from xgboost import XGBClassifier\n",
    "from lightgbm import LGBMClassifier\n",
    "from catboost import CatBoostClassifier\n",
    "from sklearn.metrics import accuracy_score\n",
    "\n",
    "\n",
    "from helper_functions import (\n",
    "    map_diagnoses, identify_and_report_duplicates, \n",
    "    rank_and_deduplicate, prepare_target_columns, \n",
    "    calculate_deltas\n",
    ")"
   ]
  },
  {
   "cell_type": "code",
   "execution_count": 2,
   "metadata": {},
   "outputs": [
    {
     "name": "stderr",
     "output_type": "stream",
     "text": [
      "/var/folders/9r/03hrbpcn4bzdgxscd6prmdj40000gn/T/ipykernel_81799/3772743957.py:1: DtypeWarning: Columns (18,19,20,103,104) have mixed types. Specify dtype option on import or set low_memory=False.\n",
      "  df = pd.read_csv('../tadpole_challenge 3/ADNIMERGE.csv')\n"
     ]
    }
   ],
   "source": [
    "df = pd.read_csv('../tadpole_challenge 3/ADNIMERGE.csv')"
   ]
  },
  {
   "cell_type": "code",
   "execution_count": 3,
   "metadata": {},
   "outputs": [],
   "source": [
    "df['EXAMDATE'] = pd.to_datetime(df['EXAMDATE'])\n",
    "df = df.sort_values(by=['RID', 'EXAMDATE'])\n",
    "df['assumedDX'] = df.groupby('RID')['DX'].ffill()\n",
    "\n",
    "dx_mapping = {'SMC': 'CN', 'LMCI': 'MCI', 'EMCI': 'MCI', 'AD': 'Dementia'}\n",
    "dx_order = ['CN', 'MCI', 'Dementia']"
   ]
  },
  {
   "cell_type": "code",
   "execution_count": 4,
   "metadata": {},
   "outputs": [
    {
     "name": "stdout",
     "output_type": "stream",
     "text": [
      "110 Patients with double Month entries\n"
     ]
    },
    {
     "name": "stderr",
     "output_type": "stream",
     "text": [
      "/Users/emilywheaton/Documents/Emily/Portfolio/ADNI/helper_functions.py:546: FutureWarning: DataFrame.fillna with 'method' is deprecated and will raise in a future version. Use obj.ffill() or obj.bfill() instead.\n",
      "  df[columns_to_fill] = df[columns_to_fill].fillna(method='ffill').fillna('DNA')\n"
     ]
    }
   ],
   "source": [
    "df = map_diagnoses(df, dx_mapping)\n",
    "df = identify_and_report_duplicates(df)\n",
    "df = rank_and_deduplicate(df)\n",
    "df = prepare_target_columns(df)\n",
    "df = calculate_deltas(df)"
   ]
  },
  {
   "cell_type": "code",
   "execution_count": 5,
   "metadata": {},
   "outputs": [],
   "source": [
    "columns_for_model = [\n",
    "        'VISCODE', 'SITE', 'COLPROT', 'ORIGPROT', 'DX_bl', 'AGE', 'PTGENDER', 'PTEDUCAT',\n",
    "        'PTETHCAT', 'PTRACCAT', 'PTMARRY', 'APOE4', 'FDG', 'CDRSB', 'ADAS11', 'ADAS13',\n",
    "        'ADASQ4', 'MMSE', 'RAVLT_immediate', 'RAVLT_learning', 'RAVLT_forgetting',\n",
    "        'RAVLT_perc_forgetting', 'LDELTOTAL', 'TRABSCOR', 'FAQ', 'DX', 'mPACCdigit',\n",
    "        'mPACCtrailsB', 'CDRSB_bl', 'ADAS11_bl', 'ADAS13_bl', 'ADASQ4_bl',\n",
    "        'MMSE_bl', 'RAVLT_immediate_bl', 'RAVLT_learning_bl', 'RAVLT_forgetting_bl',\n",
    "        'RAVLT_perc_forgetting_bl', 'LDELTOTAL_BL', 'DIGITSCOR_bl', 'TRABSCOR_bl',\n",
    "        'FAQ_bl', 'mPACCdigit_bl', 'mPACCtrailsB_bl', 'FLDSTRENG_bl', 'FSVERSION_bl',\n",
    "        'Ventricles_bl', 'Hippocampus_bl', 'WholeBrain_bl', 'Entorhinal_bl', 'Fusiform_bl',\n",
    "        'MidTemp_bl', 'ICV_bl', 'FDG_bl', 'PIB_bl',\n",
    "        'Years_bl', 'Month_bl', 'Month', 'M', 'assumedDX', 'DX_bl_mapping',\n",
    "        'CDRSB_delta', 'ADAS11_delta', 'ADAS13_delta', 'MMSE_delta', 'RAVLT_delta'\n",
    "    ]\n",
    "categorical_features = [\n",
    "    'VISCODE', 'SITE', 'COLPROT', 'ORIGPROT', 'DX_bl', 'PTGENDER', 'PTEDUCAT',\n",
    "    'PTETHCAT', 'PTRACCAT', 'PTMARRY', 'DX', 'FLDSTRENG_bl', 'FSVERSION_bl',\n",
    "    'Month', 'M', 'assumedDX', 'DX_bl_mapping'\n",
    "]\n",
    "numeric_features = [col for col in columns_for_model if col not in categorical_features]"
   ]
  },
  {
   "cell_type": "code",
   "execution_count": 6,
   "metadata": {},
   "outputs": [],
   "source": [
    "X, y = df[columns_for_model], df['DX6M']\n",
    "\n",
    "# Encode target variable\n",
    "label_encoder = LabelEncoder()\n",
    "y = label_encoder.fit_transform(y)\n",
    "\n",
    "# Split the data\n",
    "X_train, X_test, y_train, y_test = train_test_split(X, y, test_size=0.3, random_state=42)\n"
   ]
  },
  {
   "cell_type": "code",
   "execution_count": 7,
   "metadata": {},
   "outputs": [
    {
     "name": "stdout",
     "output_type": "stream",
     "text": [
      "XGBoost Feature Importances:\n",
      "            Feature  Importance\n",
      "177           DX_CN    0.319670\n",
      "179          DX_MCI    0.290191\n",
      "178     DX_Dementia    0.174002\n",
      "137  ORIGPROT_ADNI3    0.058709\n",
      "123      SITE_141.0    0.005030\n",
      "133   COLPROT_ADNI3    0.005010\n",
      "48       VISCODE_bl    0.004459\n",
      "41         Years_bl    0.004407\n",
      "3             CDRSB    0.002914\n",
      "56      VISCODE_m18    0.002897\n",
      "\n",
      "LightGBM Feature Importances:\n",
      "            Feature  Importance\n",
      "41         Years_bl         450\n",
      "0               AGE         392\n",
      "13         TRABSCOR         324\n",
      "32    Ventricles_bl         290\n",
      "8   RAVLT_immediate         261\n",
      "2               FDG         251\n",
      "12        LDELTOTAL         248\n",
      "38           ICV_bl         245\n",
      "39           FDG_bl         233\n",
      "15       mPACCdigit         233\n",
      "\n",
      "CatBoost Feature Importances:\n",
      "                Feature  Importance\n",
      "179              DX_MCI   15.194575\n",
      "231       assumedDX_MCI    6.583369\n",
      "177               DX_CN    4.558094\n",
      "229        assumedDX_CN    4.451149\n",
      "230  assumedDX_Dementia    4.053560\n",
      "41             Years_bl    4.021734\n",
      "42             Month_bl    2.820579\n",
      "14                  FAQ    2.747770\n",
      "3                 CDRSB    2.634882\n",
      "12            LDELTOTAL    2.555652\n",
      "\n"
     ]
    }
   ],
   "source": [
    "numeric_transformer = Pipeline(steps=[\n",
    "    ('scaler', StandardScaler())\n",
    "])\n",
    "\n",
    "categorical_transformer = Pipeline(steps=[\n",
    "    ('onehot', OneHotEncoder(handle_unknown='ignore'))\n",
    "])\n",
    "\n",
    "preprocessor = ColumnTransformer(\n",
    "    transformers=[\n",
    "        ('num', numeric_transformer, numeric_features),\n",
    "        ('cat', categorical_transformer, categorical_features)\n",
    "    ])\n",
    "\n",
    "\n",
    "models = {\n",
    "    'XGBoost': XGBClassifier(eval_metric='logloss'),\n",
    "    'LightGBM': LGBMClassifier(verbose=-1),\n",
    "    'CatBoost': CatBoostClassifier(verbose=0)\n",
    "}\n",
    "results = {}\n",
    "for model_name, model in models.items():\n",
    "    pipeline = Pipeline([\n",
    "        ('preprocessor', preprocessor),\n",
    "        ('classifier', model)\n",
    "    ])\n",
    "\n",
    "    cv_scores = cross_val_score(pipeline, X_train, y_train, cv=5)\n",
    "    pipeline.fit(X_train, y_train)\n",
    "    y_pred = pipeline.predict(X_test)\n",
    "    accuracy = accuracy_score(y_test, y_pred)\n",
    "    \n",
    "    # Extract feature importance\n",
    "    if hasattr(model, 'feature_importances_'):\n",
    "        # Extract and display feature importances for tree-based models\n",
    "        # We need to access feature names from preprocessor\n",
    "        feature_names = (numeric_features + \n",
    "                         list(preprocessor.transformers_[1][1].named_steps['onehot'].get_feature_names_out()))\n",
    "        \n",
    "        importances = model.feature_importances_\n",
    "        feature_importance_df = pd.DataFrame({\n",
    "            'Feature': feature_names,\n",
    "            'Importance': importances\n",
    "        }).sort_values(by='Importance', ascending=False)\n",
    "        \n",
    "        print(f\"{model_name} Feature Importances:\")\n",
    "        print(feature_importance_df.head(10))\n",
    "        print()\n",
    "\n",
    "    results[model_name] = {\n",
    "        'CV Mean Accuracy': np.mean(cv_scores),\n",
    "        'Test Accuracy': accuracy\n",
    "    }\n"
   ]
  },
  {
   "cell_type": "code",
   "execution_count": 8,
   "metadata": {},
   "outputs": [
    {
     "name": "stdout",
     "output_type": "stream",
     "text": [
      "XGBoost:\n",
      "  CV Mean Accuracy: 0.9491\n",
      "  Test Accuracy: 0.9557\n",
      "\n",
      "LightGBM:\n",
      "  CV Mean Accuracy: 0.9484\n",
      "  Test Accuracy: 0.9577\n",
      "\n",
      "CatBoost:\n",
      "  CV Mean Accuracy: 0.9498\n",
      "  Test Accuracy: 0.9608\n",
      "\n"
     ]
    }
   ],
   "source": [
    "# Print results\n",
    "for model_name, metrics in results.items():\n",
    "    print(f\"{model_name}:\")\n",
    "    print(f\"  CV Mean Accuracy: {metrics['CV Mean Accuracy']:.4f}\")\n",
    "    print(f\"  Test Accuracy: {metrics['Test Accuracy']:.4f}\")\n",
    "    print()\n"
   ]
  },
  {
   "cell_type": "code",
   "execution_count": null,
   "metadata": {},
   "outputs": [],
   "source": []
  }
 ],
 "metadata": {
  "kernelspec": {
   "display_name": ".venv",
   "language": "python",
   "name": "python3"
  },
  "language_info": {
   "codemirror_mode": {
    "name": "ipython",
    "version": 3
   },
   "file_extension": ".py",
   "mimetype": "text/x-python",
   "name": "python",
   "nbconvert_exporter": "python",
   "pygments_lexer": "ipython3",
   "version": "3.12.4"
  }
 },
 "nbformat": 4,
 "nbformat_minor": 2
}
