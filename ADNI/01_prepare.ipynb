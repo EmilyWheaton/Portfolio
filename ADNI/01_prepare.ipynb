{
 "cells": [
  {
   "cell_type": "code",
   "execution_count": 45,
   "metadata": {},
   "outputs": [],
   "source": [
    "import numpy as np\n",
    "import os\n",
    "import pandas as pd\n",
    "\n",
    "pd.set_option('future.no_silent_downcasting', True)\n",
    "pd.set_option('display.max_columns', 300) \n"
   ]
  },
  {
   "cell_type": "code",
   "execution_count": 46,
   "metadata": {},
   "outputs": [
    {
     "name": "stderr",
     "output_type": "stream",
     "text": [
      "/var/folders/9r/03hrbpcn4bzdgxscd6prmdj40000gn/T/ipykernel_63912/3772743957.py:1: DtypeWarning: Columns (18,19,20,103,104) have mixed types. Specify dtype option on import or set low_memory=False.\n",
      "  df = pd.read_csv('../tadpole_challenge 3/ADNIMERGE.csv')\n"
     ]
    }
   ],
   "source": [
    "df = pd.read_csv('../tadpole_challenge 3/ADNIMERGE.csv')"
   ]
  },
  {
   "cell_type": "code",
   "execution_count": 47,
   "metadata": {},
   "outputs": [],
   "source": [
    "# Ensure all datetime columns are correct type\n",
    "df[['EXAMDATE', 'EXAMDATE_bl', 'update_stamp']] = df[['EXAMDATE', 'EXAMDATE_bl', 'update_stamp']].apply(pd.to_datetime)"
   ]
  },
  {
   "cell_type": "code",
   "execution_count": 48,
   "metadata": {},
   "outputs": [],
   "source": [
    "# Process columns 'ABETA', 'TAU', and 'PTAU' to handle values with '<' and '>' symbols.\n",
    "# For values with '<', the symbol is removed, and 1 is subtracted from the numeric value.\n",
    "# For values with '>', the symbol is removed, and 1 is added to the numeric value.\n",
    "# Finally, convert the processed columns to float data type.\n",
    "\n",
    "for col in ['ABETA', 'TAU', 'PTAU']: \n",
    "    mask = df[col].str.contains('<').fillna(False)\n",
    "    df.loc[mask, col] = df.loc[mask, col].str.replace('<', '').astype(float) - 1\n",
    "    mask = df[col].str.contains('>').fillna(False)\n",
    "    df.loc[mask, col] = df.loc[mask, col].str.replace('>', '').astype(float) + 1\n",
    "    df[col] = df[col].astype(float)\n"
   ]
  },
  {
   "cell_type": "code",
   "execution_count": 49,
   "metadata": {},
   "outputs": [],
   "source": [
    "df = df.sort_values(by=['RID', 'EXAMDATE'])"
   ]
  },
  {
   "cell_type": "code",
   "execution_count": 50,
   "metadata": {},
   "outputs": [],
   "source": [
    "# Step 1: Remove rows where the Diagnosis column (DX) is NaN\n",
    "# Reason: The model requires complete data for diagnosis to accurately track disease progression.\n",
    "# Rows with missing diagnosis information cannot contribute meaningfully to the analysis.\n",
    "\n",
    "df = df.dropna(subset=['DX']).reset_index(drop=True)\n",
    "\n",
    "# Step 2: Filter out patients with only one visit\n",
    "# Reason: The model focuses on disease progression, and patients with only one visit\n",
    "# do not provide information on how the disease progresses over time.\n",
    "# Without follow-up appointments, we cannot track or analyze the progression of the disease.\n",
    "\n",
    "visit_counts = df.groupby('RID').size()\n",
    "multiple_visits_rid = visit_counts[visit_counts > 1].index\n",
    "df = df[df['RID'].isin(multiple_visits_rid)]"
   ]
  },
  {
   "cell_type": "code",
   "execution_count": 51,
   "metadata": {},
   "outputs": [],
   "source": [
    "# Identify and remove patients who were diagnosed with \"Dementia\" at their baseline visit (VISCODE == 'bl')\n",
    "# Reason: The focus might be on tracking disease progression from a non-demented state, so patients\n",
    "# who start with a dementia diagnosis may not be relevant for this specific analysis.\n",
    "\n",
    "rids_to_drop = []\n",
    "for rid in np.unique(df['RID']):\n",
    "    # Filter the DataFrame to include only rows for the current patient (RID)\n",
    "    df_rid = df.loc[df['RID'] == rid]\n",
    "    \n",
    "    # Check if the baseline diagnosis is \"Dementia\"\n",
    "    if df_rid.loc[df_rid['VISCODE'] == 'bl', 'DX'].values == 'Dementia': \n",
    "        rids_to_drop.append(rid)\n",
    "\n",
    "# Drop patients whose baseline diagnosis was \"Dementia\"\n",
    "df = df.loc[~df['RID'].isin(rids_to_drop)].reset_index(drop=True)\n"
   ]
  },
  {
   "cell_type": "code",
   "execution_count": 52,
   "metadata": {},
   "outputs": [],
   "source": [
    "# Identify and remove patients whose diagnosis history indicates a reversal or improvement\n",
    "# in condition, which may be problematic for the analysis of disease progression.\n",
    "\n",
    "rids_to_drop = []\n",
    "for rid in np.unique(df['RID']):\n",
    "    df_rid = df.loc[df['RID'] == rid].sort_values(by=['M']).reset_index(drop=True)\n",
    "    flag = False\n",
    "    for i in range(len(df_rid) - 1):\n",
    "        dx_curr = df_rid.loc[i, 'DX']\n",
    "        if dx_curr == 'MCI':\n",
    "            if 'CN' in df_rid.loc[i + 1:, 'DX'].values:\n",
    "                flag = True\n",
    "                break\n",
    "        elif dx_curr == 'Dementia':\n",
    "            if ('CN' in df_rid.loc[i + 1:, 'DX'].values) or ('MCI' in df_rid.loc[i + 1:, 'DX'].values):\n",
    "                flag = True\n",
    "                break\n",
    "    if flag:\n",
    "        rids_to_drop.append(rid)\n",
    "\n",
    "# Remove patients with diagnosis history indicating reversal/improvement\n",
    "df = df.loc[~df['RID'].isin(rids_to_drop)].reset_index(drop=True)"
   ]
  },
  {
   "cell_type": "code",
   "execution_count": 53,
   "metadata": {},
   "outputs": [],
   "source": [
    "# Create new columns for each interval (6, 12, 24, 48, 60 months) that contain the DX value \n",
    "# for the same RID but at a future month corresponding to the current Month + interval. \n",
    "# If no corresponding DX value is found, the column is filled with None.\n",
    "\n",
    "intervals = [6, 12, 24, 48, 60]\n",
    "for interval in intervals:\n",
    "    col_name = f'DX_{interval}M'\n",
    "    df[col_name] = df.apply(\n",
    "        lambda row: df[(df['RID'] == row['RID']) & (df['Month'] == row['Month'] + interval)]['DX'].values, axis=1\n",
    "    )\n",
    "    df[col_name] = df[col_name].apply(lambda x: x[0] if len(x) > 0 else 'DidNotAttend')"
   ]
  },
  {
   "cell_type": "code",
   "execution_count": 54,
   "metadata": {},
   "outputs": [],
   "source": [
    "bl_df = df[df['VISCODE']=='bl']"
   ]
  },
  {
   "cell_type": "code",
   "execution_count": 55,
   "metadata": {},
   "outputs": [],
   "source": [
    "os.makedirs('processed_data', exist_ok=True)\n",
    "bl_df.to_csv('processed_data/bl_df.csv', index=False)\n"
   ]
  }
 ],
 "metadata": {
  "kernelspec": {
   "display_name": ".venv",
   "language": "python",
   "name": "python3"
  },
  "language_info": {
   "codemirror_mode": {
    "name": "ipython",
    "version": 3
   },
   "file_extension": ".py",
   "mimetype": "text/x-python",
   "name": "python",
   "nbconvert_exporter": "python",
   "pygments_lexer": "ipython3",
   "version": "3.12.5"
  }
 },
 "nbformat": 4,
 "nbformat_minor": 2
}
